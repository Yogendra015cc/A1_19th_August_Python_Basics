{
 "cells": [
  {
   "cell_type": "markdown",
   "id": "f027934e-76a1-41b5-8eb2-25b5a385602f",
   "metadata": {},
   "source": [
    "# Assignment 1st (19 Aug Python Basics)"
   ]
  },
  {
   "cell_type": "markdown",
   "id": "200e141c-43cd-410c-bbef-5d774279da83",
   "metadata": {},
   "source": [
    "1. Declare two variables, `x` and `y`, and assign them integer values. Swap the\n",
    "values of these variables without using any temporary variable.\n"
   ]
  },
  {
   "cell_type": "markdown",
   "id": "0158e61f-5790-4f02-a79f-55fe568dae2d",
   "metadata": {},
   "source": [
    "TOPIC: Python Basics Variable"
   ]
  },
  {
   "cell_type": "code",
   "execution_count": 2,
   "id": "9c6d1944-ae8f-4c3b-97d5-35b77f9a857b",
   "metadata": {},
   "outputs": [],
   "source": [
    "x = 1\n",
    "y = 2"
   ]
  },
  {
   "cell_type": "code",
   "execution_count": 3,
   "id": "39b506a6-1157-4a0e-bd33-4e1a8e6a552a",
   "metadata": {},
   "outputs": [
    {
     "data": {
      "text/plain": [
       "1"
      ]
     },
     "execution_count": 3,
     "metadata": {},
     "output_type": "execute_result"
    }
   ],
   "source": [
    "x"
   ]
  },
  {
   "cell_type": "code",
   "execution_count": 4,
   "id": "7e6e1784-0a42-4456-a9f9-5dc16bffe3b2",
   "metadata": {},
   "outputs": [
    {
     "data": {
      "text/plain": [
       "2"
      ]
     },
     "execution_count": 4,
     "metadata": {},
     "output_type": "execute_result"
    }
   ],
   "source": [
    "y"
   ]
  },
  {
   "cell_type": "code",
   "execution_count": 5,
   "id": "08252f12-b968-4c04-81da-51a176717a15",
   "metadata": {},
   "outputs": [],
   "source": [
    "x = 2\n",
    "y = 1"
   ]
  },
  {
   "cell_type": "code",
   "execution_count": 6,
   "id": "9e6f000a-6d83-45ad-be9d-46154fb165e6",
   "metadata": {},
   "outputs": [
    {
     "data": {
      "text/plain": [
       "2"
      ]
     },
     "execution_count": 6,
     "metadata": {},
     "output_type": "execute_result"
    }
   ],
   "source": [
    "x"
   ]
  },
  {
   "cell_type": "code",
   "execution_count": 7,
   "id": "19ec263f-b619-4033-a618-46f952e4a71f",
   "metadata": {},
   "outputs": [
    {
     "data": {
      "text/plain": [
       "1"
      ]
     },
     "execution_count": 7,
     "metadata": {},
     "output_type": "execute_result"
    }
   ],
   "source": [
    "y"
   ]
  },
  {
   "cell_type": "markdown",
   "id": "aeae8292-2942-4f29-990b-faef74665de6",
   "metadata": {},
   "source": [
    "2. Create a program that calculates the area of a rectangle. Take the length and\n",
    "width as inputs from the user and store them in variables. Calculate and\n",
    "display the area.\n"
   ]
  },
  {
   "cell_type": "code",
   "execution_count": 12,
   "id": "b7f0bd87-f731-4c75-b3fe-e8de5bd027fe",
   "metadata": {},
   "outputs": [
    {
     "name": "stdin",
     "output_type": "stream",
     "text": [
      "Enter length of the rectangle 5\n",
      "Enter breadth of the rectangle 10\n"
     ]
    },
    {
     "name": "stdout",
     "output_type": "stream",
     "text": [
      "The area of rectangle with length = 5 and breadth = 10 is  = 50\n"
     ]
    }
   ],
   "source": [
    "length = int(input('Enter length of the rectangle')) # This will take length as input\n",
    "breadth = int(input('Enter breadth of the rectangle')) # This will take breadth as input\n",
    "Area_of_Rectangle = length * breadth # It will multiply length and breadth , which is the area of rectangle\n",
    "print(f\"The area of rectangle with length = {length} and breadth = {breadth} is  = {Area_of_Rectangle}\")"
   ]
  },
  {
   "cell_type": "markdown",
   "id": "9a65278e-1d0f-4c0f-9a0e-0d5a5b5d0ff6",
   "metadata": {},
   "source": [
    "3. Write a Python program that converts temperatures from Celsius to\n",
    "Fahrenheit. Take the temperature in Celsius as input, store it in a variable,\n",
    "convert it to Fahrenheit, and display the result.\n"
   ]
  },
  {
   "cell_type": "code",
   "execution_count": 13,
   "id": "38545887-1b72-4939-a0ce-da046c9c9b7b",
   "metadata": {},
   "outputs": [
    {
     "name": "stdin",
     "output_type": "stream",
     "text": [
      "Enter the temperature in terms of celsius 5\n"
     ]
    },
    {
     "name": "stdout",
     "output_type": "stream",
     "text": [
      "Temperature in faremheit is = 41.0\n"
     ]
    }
   ],
   "source": [
    "celsius = int(input(\"Enter the temperature in terms of celsius\"))\n",
    "farenhiet = celsius *9/5 + 32 # IT is the formula to calculate celsius to farenheit temperature\n",
    "print(f\"Temperature in faremheit is = {farenhiet}\")"
   ]
  },
  {
   "cell_type": "markdown",
   "id": "bab11e94-77c5-4f38-9309-87a9c3d0cc70",
   "metadata": {},
   "source": [
    "TOPIC: String Based Questions"
   ]
  },
  {
   "cell_type": "markdown",
   "id": "34f9be3e-5a68-4667-a69d-776f903777ef",
   "metadata": {},
   "source": [
    "1. Write a Python program that takes a string as input and prints the length of\n",
    "the string."
   ]
  },
  {
   "cell_type": "code",
   "execution_count": 14,
   "id": "a1e71fd4-a5eb-495b-9082-ae605a50dc72",
   "metadata": {},
   "outputs": [
    {
     "name": "stdin",
     "output_type": "stream",
     "text": [
      "Enter any string Yogendra\n"
     ]
    },
    {
     "name": "stdout",
     "output_type": "stream",
     "text": [
      "8\n"
     ]
    }
   ],
   "source": [
    "s = input(\"Enter any string\")\n",
    "print(len(s)) # \"len\" is an inbuilt keyword which is used to calculate length of a string"
   ]
  },
  {
   "cell_type": "markdown",
   "id": "f570250f-c271-421b-b098-3e344dbd8fd8",
   "metadata": {},
   "source": [
    "2. Create a program that takes a sentence from the user and counts the number\n",
    "of vowels (a, e, i, o, u) in the string."
   ]
  },
  {
   "cell_type": "code",
   "execution_count": 19,
   "id": "bc1a7484-059f-4dfa-8436-a5137390ed26",
   "metadata": {},
   "outputs": [
    {
     "name": "stdin",
     "output_type": "stream",
     "text": [
      "Enter a sentence:  Hii my name is Yogendra Chaurasiya\n"
     ]
    },
    {
     "name": "stdout",
     "output_type": "stream",
     "text": [
      "The number of vowels in the sentence is: 13\n"
     ]
    }
   ],
   "source": [
    "# Take input from the user\n",
    "user_sentence = input(\"Enter a sentence: \")\n",
    "\n",
    "vowels = \"aeiouAEIOU\"\n",
    "vowel_count = 0\n",
    "for i in user_sentence:\n",
    "    if i in vowels:\n",
    "        vowel_count += 1\n",
    "print(f\"The number of vowels in the sentence is: {vowel_count}\")\n"
   ]
  },
  {
   "cell_type": "markdown",
   "id": "8a99853f-8b49-46c5-8a8a-394c718990f5",
   "metadata": {},
   "source": [
    " 3. Given a string, reverse the order of characters using string slicing and print\n",
    "the reversed string.   "
   ]
  },
  {
   "cell_type": "code",
   "execution_count": 20,
   "id": "bfeb3ec7-e1f2-4ada-90d5-fe441f0e1382",
   "metadata": {},
   "outputs": [],
   "source": [
    "let_string = \"Harsh\"\n",
    "reverse_string = let_string[::-1]"
   ]
  },
  {
   "cell_type": "code",
   "execution_count": 21,
   "id": "84d4d565-cc4a-49af-a99e-b0e64a0374dd",
   "metadata": {},
   "outputs": [
    {
     "data": {
      "text/plain": [
       "'hsraH'"
      ]
     },
     "execution_count": 21,
     "metadata": {},
     "output_type": "execute_result"
    }
   ],
   "source": [
    "reverse_string"
   ]
  },
  {
   "cell_type": "markdown",
   "id": "24f8678d-3f78-4d55-bba6-d902f6e5396b",
   "metadata": {},
   "source": [
    "4. Write a program that takes a string as input and checks if it is a palindrome\n",
    "(reads the same forwards and backwards)."
   ]
  },
  {
   "cell_type": "code",
   "execution_count": 25,
   "id": "c94c2304-a02b-485d-a3dc-5fd7a530d3f6",
   "metadata": {},
   "outputs": [],
   "source": [
    "def find_palindrome():\n",
    "    user_input2 = input(\"Enter any word\")\n",
    "    reverse_string_by_user = user_input2[::-1]\n",
    "    if user_input2 == reverse_string_by_user:\n",
    "        print(f\"The following word {user_input2} is a palindrome word\")\n",
    "    else:\n",
    "        print(f\"The following word {user_input2} is not a palindrome word\")"
   ]
  },
  {
   "cell_type": "code",
   "execution_count": 26,
   "id": "d21d45d9-a6b7-425a-b3b5-0e87bcead62d",
   "metadata": {},
   "outputs": [
    {
     "name": "stdin",
     "output_type": "stream",
     "text": [
      "Enter any word naman\n"
     ]
    },
    {
     "name": "stdout",
     "output_type": "stream",
     "text": [
      "The following word naman is a palindrome word\n"
     ]
    }
   ],
   "source": [
    "find_palindrome()"
   ]
  },
  {
   "cell_type": "code",
   "execution_count": 27,
   "id": "ffc66333-a2dc-4f92-9e5f-be7f5a9dc97f",
   "metadata": {},
   "outputs": [
    {
     "name": "stdin",
     "output_type": "stream",
     "text": [
      "Enter any word harsh\n"
     ]
    },
    {
     "name": "stdout",
     "output_type": "stream",
     "text": [
      "The following word harsh is not a palindrome word\n"
     ]
    }
   ],
   "source": [
    "find_palindrome()"
   ]
  },
  {
   "cell_type": "code",
   "execution_count": 28,
   "id": "6a00d8d0-0663-4415-bba5-3c5dcea5a3f1",
   "metadata": {},
   "outputs": [
    {
     "name": "stdin",
     "output_type": "stream",
     "text": [
      "Enter any word radar\n"
     ]
    },
    {
     "name": "stdout",
     "output_type": "stream",
     "text": [
      "The following word radar is a palindrome word\n"
     ]
    }
   ],
   "source": [
    "find_palindrome()"
   ]
  },
  {
   "cell_type": "markdown",
   "id": "052ab31c-6ae9-470e-8c7a-300e538dc611",
   "metadata": {},
   "source": [
    "5. Create a program that takes a string as input and removes all the spaces from\n",
    "it. Print the modified string without spaces."
   ]
  },
  {
   "cell_type": "code",
   "execution_count": 1,
   "id": "76e3bc42-0258-4f39-b20a-62eeeb89a383",
   "metadata": {},
   "outputs": [],
   "source": [
    "# Sorry i am unable to solve it"
   ]
  },
  {
   "cell_type": "code",
   "execution_count": null,
   "id": "0a8f931a-57a4-4eb0-95bb-99da66cb6092",
   "metadata": {},
   "outputs": [],
   "source": []
  }
 ],
 "metadata": {
  "kernelspec": {
   "display_name": "Python 3 (ipykernel)",
   "language": "python",
   "name": "python3"
  },
  "language_info": {
   "codemirror_mode": {
    "name": "ipython",
    "version": 3
   },
   "file_extension": ".py",
   "mimetype": "text/x-python",
   "name": "python",
   "nbconvert_exporter": "python",
   "pygments_lexer": "ipython3",
   "version": "3.10.8"
  }
 },
 "nbformat": 4,
 "nbformat_minor": 5
}
